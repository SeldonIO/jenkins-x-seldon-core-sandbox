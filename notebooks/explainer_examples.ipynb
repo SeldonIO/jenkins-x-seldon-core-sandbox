{
 "cells": [
  {
   "cell_type": "markdown",
   "metadata": {},
   "source": [
    "# Example Model Explanations with Seldon"
   ]
  },
  {
   "cell_type": "markdown",
   "metadata": {},
   "source": [
    "## Prerequisites\n",
    "You will need\n",
    " - [Git clone of Seldon Core](https://github.com/SeldonIO/seldon-core)\n",
    " - A running Kubernetes cluster with kubectl authenticated\n",
    " - [seldon-core Python package](https://pypi.org/project/seldon-core/) (```pip install seldon-core>=0.2.6.1```)\n",
    " - [Helm client](https://helm.sh/)"
   ]
  },
  {
   "cell_type": "markdown",
   "metadata": {},
   "source": [
    "### Creating a Kubernetes Cluster\n",
    "\n",
    "Follow the [Kubernetes documentation to create a cluster](https://kubernetes.io/docs/setup/).\n",
    "\n",
    "Once created ensure ```kubectl``` is authenticated against the running cluster."
   ]
  },
  {
   "cell_type": "markdown",
   "metadata": {},
   "source": [
    "## Setup"
   ]
  },
  {
   "cell_type": "code",
   "execution_count": 1,
   "metadata": {},
   "outputs": [
    {
     "name": "stdout",
     "output_type": "stream",
     "text": [
      "namespace/seldon created\r\n"
     ]
    }
   ],
   "source": [
    "!kubectl create namespace seldon"
   ]
  },
  {
   "cell_type": "code",
   "execution_count": 2,
   "metadata": {},
   "outputs": [
    {
     "name": "stdout",
     "output_type": "stream",
     "text": [
      "Context \"kubernetes-admin@kind\" modified.\r\n"
     ]
    }
   ],
   "source": [
    "!kubectl config set-context $(kubectl config current-context) --namespace=seldon"
   ]
  },
  {
   "cell_type": "code",
   "execution_count": 3,
   "metadata": {},
   "outputs": [
    {
     "name": "stdout",
     "output_type": "stream",
     "text": [
      "clusterrolebinding.rbac.authorization.k8s.io/kube-system-cluster-admin created\r\n"
     ]
    }
   ],
   "source": [
    "!kubectl create clusterrolebinding kube-system-cluster-admin --clusterrole=cluster-admin --serviceaccount=kube-system:default"
   ]
  },
  {
   "cell_type": "markdown",
   "metadata": {},
   "source": [
    "## Install Helm"
   ]
  },
  {
   "cell_type": "code",
   "execution_count": 4,
   "metadata": {},
   "outputs": [
    {
     "name": "stdout",
     "output_type": "stream",
     "text": [
      "serviceaccount/tiller created\n",
      "clusterrolebinding.rbac.authorization.k8s.io/tiller created\n",
      "$HELM_HOME has been configured at /home/clive/.helm.\n",
      "\n",
      "Tiller (the Helm server-side component) has been installed into your Kubernetes Cluster.\n",
      "\n",
      "Please note: by default, Tiller is deployed with an insecure 'allow unauthenticated users' policy.\n",
      "To prevent this, run `helm init` with the --tiller-tls-verify flag.\n",
      "For more information on securing your installation see: https://docs.helm.sh/using_helm/#securing-your-helm-installation\n",
      "Happy Helming!\n"
     ]
    }
   ],
   "source": [
    "!kubectl -n kube-system create sa tiller\n",
    "!kubectl create clusterrolebinding tiller --clusterrole cluster-admin --serviceaccount=kube-system:tiller\n",
    "!helm init --service-account tiller"
   ]
  },
  {
   "cell_type": "code",
   "execution_count": 5,
   "metadata": {},
   "outputs": [
    {
     "name": "stdout",
     "output_type": "stream",
     "text": [
      "Waiting for deployment \"tiller-deploy\" rollout to finish: 0 of 1 updated replicas are available...\n",
      "deployment \"tiller-deploy\" successfully rolled out\n"
     ]
    }
   ],
   "source": [
    "!kubectl rollout status deploy/tiller-deploy -n kube-system"
   ]
  },
  {
   "cell_type": "markdown",
   "metadata": {},
   "source": [
    "## Start seldon-core"
   ]
  },
  {
   "cell_type": "code",
   "execution_count": 6,
   "metadata": {
    "scrolled": true
   },
   "outputs": [
    {
     "name": "stdout",
     "output_type": "stream",
     "text": [
      "NAME:   seldon-core\n",
      "LAST DEPLOYED: Tue Oct 22 09:18:10 2019\n",
      "NAMESPACE: seldon-system\n",
      "STATUS: DEPLOYED\n",
      "\n",
      "RESOURCES:\n",
      "==> v1/ClusterRole\n",
      "NAME                     AGE\n",
      "seldon-manager-css-role  1s\n",
      "seldon-manager-role      1s\n",
      "seldon-manager-sas-role  1s\n",
      "seldon-proxy-role        1s\n",
      "\n",
      "==> v1/ClusterRoleBinding\n",
      "NAME                            AGE\n",
      "seldon-manager-css-rolebinding  1s\n",
      "seldon-manager-rolebinding      1s\n",
      "seldon-manager-sas-rolebinding  1s\n",
      "seldon-proxy-rolebinding        1s\n",
      "\n",
      "==> v1/ConfigMap\n",
      "NAME                     DATA  AGE\n",
      "seldon-config            1     1s\n",
      "seldon-spartakus-config  1     1s\n",
      "\n",
      "==> v1/Deployment\n",
      "NAME                       READY  UP-TO-DATE  AVAILABLE  AGE\n",
      "seldon-controller-manager  0/1    1           0          0s\n",
      "\n",
      "==> v1/Pod(related)\n",
      "NAME                                         READY  STATUS             RESTARTS  AGE\n",
      "seldon-controller-manager-864f5f6cb6-f8zl9   0/1    ContainerCreating  0         0s\n",
      "seldon-spartakus-volunteer-7d6dd98f89-9sfwv  0/1    ContainerCreating  0         0s\n",
      "\n",
      "==> v1/Role\n",
      "NAME                         AGE\n",
      "seldon-leader-election-role  1s\n",
      "seldon-manager-cm-role       1s\n",
      "\n",
      "==> v1/RoleBinding\n",
      "NAME                                AGE\n",
      "seldon-leader-election-rolebinding  1s\n",
      "seldon-manager-cm-rolebinding       1s\n",
      "\n",
      "==> v1/Secret\n",
      "NAME                        TYPE               DATA  AGE\n",
      "seldon-webhook-server-cert  kubernetes.io/tls  3     1s\n",
      "\n",
      "==> v1/Service\n",
      "NAME                                       TYPE       CLUSTER-IP      EXTERNAL-IP  PORT(S)   AGE\n",
      "seldon-controller-manager-metrics-service  ClusterIP  10.96.103.140   <none>       8443/TCP  1s\n",
      "seldon-webhook-service                     ClusterIP  10.108.245.187  <none>       443/TCP   0s\n",
      "\n",
      "==> v1/ServiceAccount\n",
      "NAME                        SECRETS  AGE\n",
      "seldon-manager              1        1s\n",
      "seldon-spartakus-volunteer  1        1s\n",
      "\n",
      "==> v1beta1/ClusterRole\n",
      "NAME                        AGE\n",
      "seldon-spartakus-volunteer  1s\n",
      "\n",
      "==> v1beta1/ClusterRoleBinding\n",
      "NAME                        AGE\n",
      "seldon-spartakus-volunteer  1s\n",
      "\n",
      "==> v1beta1/CustomResourceDefinition\n",
      "NAME                                         AGE\n",
      "seldondeployments.machinelearning.seldon.io  1s\n",
      "\n",
      "==> v1beta1/Deployment\n",
      "NAME                        READY  UP-TO-DATE  AVAILABLE  AGE\n",
      "seldon-spartakus-volunteer  0/1    1           0          0s\n",
      "\n",
      "==> v1beta1/MutatingWebhookConfiguration\n",
      "NAME                                   AGE\n",
      "seldon-mutating-webhook-configuration  0s\n",
      "\n",
      "==> v1beta1/ValidatingWebhookConfiguration\n",
      "NAME                                     AGE\n",
      "seldon-validating-webhook-configuration  0s\n",
      "\n",
      "\n"
     ]
    }
   ],
   "source": [
    "!helm install ../helm-charts/seldon-core-operator --name seldon-core --set usageMetrics.enabled=true --namespace seldon-system"
   ]
  },
  {
   "cell_type": "code",
   "execution_count": 7,
   "metadata": {},
   "outputs": [
    {
     "name": "stdout",
     "output_type": "stream",
     "text": [
      "deployment \"seldon-controller-manager\" successfully rolled out\r\n"
     ]
    }
   ],
   "source": [
    "!kubectl rollout status deployment/seldon-controller-manager -n seldon-system"
   ]
  },
  {
   "cell_type": "markdown",
   "metadata": {},
   "source": [
    "## Setup Ingress\n",
    "Please note: There are reported gRPC issues with ambassador (see https://github.com/SeldonIO/seldon-core/issues/473)."
   ]
  },
  {
   "cell_type": "code",
   "execution_count": 8,
   "metadata": {},
   "outputs": [
    {
     "name": "stdout",
     "output_type": "stream",
     "text": [
      "NAME:   ambassador\n",
      "LAST DEPLOYED: Tue Oct 22 09:18:26 2019\n",
      "NAMESPACE: seldon\n",
      "STATUS: DEPLOYED\n",
      "\n",
      "RESOURCES:\n",
      "==> v1/Deployment\n",
      "NAME        READY  UP-TO-DATE  AVAILABLE  AGE\n",
      "ambassador  0/3    3           0          0s\n",
      "\n",
      "==> v1/Pod(related)\n",
      "NAME                         READY  STATUS             RESTARTS  AGE\n",
      "ambassador-5784b5cb9d-cqtfv  0/1    ContainerCreating  0         0s\n",
      "ambassador-5784b5cb9d-mp2pt  0/1    ContainerCreating  0         0s\n",
      "ambassador-5784b5cb9d-z7sr7  0/1    ContainerCreating  0         0s\n",
      "\n",
      "==> v1/Service\n",
      "NAME              TYPE          CLUSTER-IP      EXTERNAL-IP  PORT(S)                     AGE\n",
      "ambassador        LoadBalancer  10.111.184.152  <pending>    80:31322/TCP,443:30535/TCP  0s\n",
      "ambassador-admin  ClusterIP     10.111.194.82   <none>       8877/TCP                    0s\n",
      "\n",
      "==> v1/ServiceAccount\n",
      "NAME        SECRETS  AGE\n",
      "ambassador  1        0s\n",
      "\n",
      "==> v1beta1/ClusterRole\n",
      "NAME             AGE\n",
      "ambassador       0s\n",
      "ambassador-crds  0s\n",
      "\n",
      "==> v1beta1/ClusterRoleBinding\n",
      "NAME             AGE\n",
      "ambassador       0s\n",
      "ambassador-crds  0s\n",
      "\n",
      "==> v1beta1/CustomResourceDefinition\n",
      "NAME                                          AGE\n",
      "authservices.getambassador.io                 0s\n",
      "consulresolvers.getambassador.io              0s\n",
      "kubernetesendpointresolvers.getambassador.io  0s\n",
      "kubernetesserviceresolvers.getambassador.io   0s\n",
      "mappings.getambassador.io                     0s\n",
      "modules.getambassador.io                      0s\n",
      "ratelimitservices.getambassador.io            0s\n",
      "tcpmappings.getambassador.io                  0s\n",
      "tlscontexts.getambassador.io                  0s\n",
      "tracingservices.getambassador.io              0s\n",
      "\n",
      "\n",
      "NOTES:\n",
      "Congratuations! You've successfully installed Ambassador.\n",
      "\n",
      "For help, visit our Slack at https://d6e.co/slack or view the documentation online at https://www.getambassador.io.\n",
      "\n",
      "To get the IP address of Ambassador, run the following commands:\n",
      "NOTE: It may take a few minutes for the LoadBalancer IP to be available.\n",
      "     You can watch the status of by running 'kubectl get svc -w  --namespace seldon ambassador'\n",
      "\n",
      "  On GKE/Azure:\n",
      "  export SERVICE_IP=$(kubectl get svc --namespace seldon ambassador -o jsonpath='{.status.loadBalancer.ingress[0].ip}')\n",
      "\n",
      "  On AWS:\n",
      "  export SERVICE_IP=$(kubectl get svc --namespace seldon ambassador -o jsonpath='{.status.loadBalancer.ingress[0].hostname}')\n",
      "\n",
      "  echo http://$SERVICE_IP:\n",
      "\n"
     ]
    }
   ],
   "source": [
    "!helm install stable/ambassador --name ambassador --set crds.keep=false"
   ]
  },
  {
   "cell_type": "code",
   "execution_count": 9,
   "metadata": {},
   "outputs": [
    {
     "name": "stdout",
     "output_type": "stream",
     "text": [
      "Waiting for deployment \"ambassador\" rollout to finish: 0 of 3 updated replicas are available...\n",
      "Waiting for deployment \"ambassador\" rollout to finish: 1 of 3 updated replicas are available...\n",
      "Waiting for deployment \"ambassador\" rollout to finish: 2 of 3 updated replicas are available...\n",
      "deployment \"ambassador\" successfully rolled out\n"
     ]
    }
   ],
   "source": [
    "!kubectl rollout status deployment.apps/ambassador"
   ]
  },
  {
   "cell_type": "markdown",
   "metadata": {},
   "source": [
    "### Port Forward to Ambassador\n",
    "\n",
    "```\n",
    "kubectl port-forward $(kubectl get pods -n seldon -l app.kubernetes.io/name=ambassador -o jsonpath='{.items[0].metadata.name}') -n seldon 8003:8080\n",
    "```"
   ]
  },
  {
   "cell_type": "markdown",
   "metadata": {},
   "source": [
    "## Income Prediction Model"
   ]
  },
  {
   "cell_type": "code",
   "execution_count": 1,
   "metadata": {
    "scrolled": true
   },
   "outputs": [
    {
     "name": "stdout",
     "output_type": "stream",
     "text": [
      "\u001b[34;01mapiVersion\u001b[39;49;00m: machinelearning.seldon.io/v1alpha2\r\n",
      "\u001b[34;01mkind\u001b[39;49;00m: SeldonDeployment\r\n",
      "\u001b[34;01mmetadata\u001b[39;49;00m:\r\n",
      "  \u001b[34;01mname\u001b[39;49;00m: income\r\n",
      "\u001b[34;01mspec\u001b[39;49;00m:\r\n",
      "  \u001b[34;01mname\u001b[39;49;00m: income\r\n",
      "  \u001b[34;01mpredictors\u001b[39;49;00m:\r\n",
      "  - \u001b[34;01mgraph\u001b[39;49;00m:\r\n",
      "      \u001b[34;01mchildren\u001b[39;49;00m: []\r\n",
      "      \u001b[34;01mimplementation\u001b[39;49;00m: SKLEARN_SERVER\r\n",
      "      \u001b[34;01mmodelUri\u001b[39;49;00m: gs://seldon-models/sklearn/income/model\r\n",
      "      \u001b[34;01mname\u001b[39;49;00m: classifier\r\n",
      "    \u001b[34;01mexplainer\u001b[39;49;00m:\r\n",
      "      \u001b[34;01mtype\u001b[39;49;00m: anchor_tabular\r\n",
      "      \u001b[34;01mmodelUri\u001b[39;49;00m: gs://seldon-models/sklearn/income/explainer\r\n",
      "    \u001b[34;01mname\u001b[39;49;00m: default\r\n",
      "    \u001b[34;01mreplicas\u001b[39;49;00m: 1\r\n"
     ]
    }
   ],
   "source": [
    "!pygmentize resources/income_explainer.yaml"
   ]
  },
  {
   "cell_type": "code",
   "execution_count": 8,
   "metadata": {},
   "outputs": [
    {
     "name": "stdout",
     "output_type": "stream",
     "text": [
      "seldondeployment.machinelearning.seldon.io/income created\r\n"
     ]
    }
   ],
   "source": [
    "!kubectl apply -f resources/income_explainer.yaml"
   ]
  },
  {
   "cell_type": "code",
   "execution_count": 9,
   "metadata": {},
   "outputs": [
    {
     "name": "stdout",
     "output_type": "stream",
     "text": [
      "Waiting for deployment \"income-default-4903e3c\" rollout to finish: 0 of 1 updated replicas are available...\n",
      "deployment \"income-default-4903e3c\" successfully rolled out\n"
     ]
    }
   ],
   "source": [
    "!kubectl rollout status deploy/income-default-4903e3c"
   ]
  },
  {
   "cell_type": "code",
   "execution_count": 10,
   "metadata": {},
   "outputs": [],
   "source": [
    "from seldon_core.seldon_client import SeldonClient\n",
    "import numpy as np\n",
    "sc = SeldonClient(deployment_name=\"income\",namespace=\"seldon\")"
   ]
  },
  {
   "cell_type": "code",
   "execution_count": 11,
   "metadata": {
    "scrolled": false
   },
   "outputs": [
    {
     "name": "stdout",
     "output_type": "stream",
     "text": [
      "Success:True message:\n",
      "Request:\n",
      "data {\n",
      "  tensor {\n",
      "    shape: 1\n",
      "    shape: 12\n",
      "    values: 39.0\n",
      "    values: 7.0\n",
      "    values: 1.0\n",
      "    values: 1.0\n",
      "    values: 1.0\n",
      "    values: 1.0\n",
      "    values: 4.0\n",
      "    values: 1.0\n",
      "    values: 2174.0\n",
      "    values: 0.0\n",
      "    values: 40.0\n",
      "    values: 9.0\n",
      "  }\n",
      "}\n",
      "\n",
      "Response:\n",
      "meta {\n",
      "  puid: \"8qs8ieo9jp79i5bjs63nc1n6bk\"\n",
      "  requestPath {\n",
      "    key: \"classifier\"\n",
      "    value: \"seldonio/sklearnserver_rest:0.2\"\n",
      "  }\n",
      "}\n",
      "data {\n",
      "  names: \"t:0\"\n",
      "  names: \"t:1\"\n",
      "  tensor {\n",
      "    shape: 1\n",
      "    shape: 2\n",
      "    values: 1.0\n",
      "    values: 0.0\n",
      "  }\n",
      "}\n",
      "\n"
     ]
    }
   ],
   "source": [
    "data = np.array([[39, 7, 1, 1, 1, 1, 4, 1, 2174, 0, 40, 9]])\n",
    "r = sc.predict(gateway=\"ambassador\",transport=\"rest\",data=data)\n",
    "print(r)"
   ]
  },
  {
   "cell_type": "code",
   "execution_count": 12,
   "metadata": {},
   "outputs": [
    {
     "name": "stdout",
     "output_type": "stream",
     "text": [
      "['Marital Status = Never-Married', 'Hours per week <= 40.00']\n"
     ]
    }
   ],
   "source": [
    "data = np.array([[39, 7, 1, 1, 1, 1, 4, 1, 2174, 0, 40, 9]])\n",
    "explanation = sc.explain(deployment_name=\"income\",gateway=\"ambassador\",transport=\"rest\",data=data)\n",
    "print(explanation[\"names\"])"
   ]
  },
  {
   "cell_type": "code",
   "execution_count": 13,
   "metadata": {},
   "outputs": [
    {
     "name": "stdout",
     "output_type": "stream",
     "text": [
      "seldondeployment.machinelearning.seldon.io \"income\" deleted\r\n"
     ]
    }
   ],
   "source": [
    "!kubectl delete -f resources/income_explainer.yaml"
   ]
  },
  {
   "cell_type": "markdown",
   "metadata": {},
   "source": [
    "## Movie Sentiment Model\n",
    "\n"
   ]
  },
  {
   "cell_type": "code",
   "execution_count": 14,
   "metadata": {
    "scrolled": true
   },
   "outputs": [
    {
     "name": "stdout",
     "output_type": "stream",
     "text": [
      "\u001b[34;01mapiVersion\u001b[39;49;00m: machinelearning.seldon.io/v1alpha2\r\n",
      "\u001b[34;01mkind\u001b[39;49;00m: SeldonDeployment\r\n",
      "\u001b[34;01mmetadata\u001b[39;49;00m:\r\n",
      "  \u001b[34;01mname\u001b[39;49;00m: movie\r\n",
      "\u001b[34;01mspec\u001b[39;49;00m:\r\n",
      "  \u001b[34;01mname\u001b[39;49;00m: movie\r\n",
      "  \u001b[34;01mpredictors\u001b[39;49;00m:\r\n",
      "  - \u001b[34;01mgraph\u001b[39;49;00m:\r\n",
      "      \u001b[34;01mchildren\u001b[39;49;00m: []\r\n",
      "      \u001b[34;01mimplementation\u001b[39;49;00m: SKLEARN_SERVER\r\n",
      "      \u001b[34;01mmodelUri\u001b[39;49;00m: gs://seldon-models/sklearn/moviesentiment\r\n",
      "      \u001b[34;01mname\u001b[39;49;00m: classifier\r\n",
      "    \u001b[34;01mexplainer\u001b[39;49;00m:\r\n",
      "      \u001b[34;01mtype\u001b[39;49;00m: anchor_text\r\n",
      "    \u001b[34;01mname\u001b[39;49;00m: default\r\n",
      "    \u001b[34;01mreplicas\u001b[39;49;00m: 1\r\n"
     ]
    }
   ],
   "source": [
    "!pygmentize resources/moviesentiment_explainer.yaml"
   ]
  },
  {
   "cell_type": "code",
   "execution_count": 15,
   "metadata": {},
   "outputs": [
    {
     "name": "stdout",
     "output_type": "stream",
     "text": [
      "seldondeployment.machinelearning.seldon.io/movie created\r\n"
     ]
    }
   ],
   "source": [
    "!kubectl apply -f resources/moviesentiment_explainer.yaml"
   ]
  },
  {
   "cell_type": "code",
   "execution_count": 16,
   "metadata": {},
   "outputs": [
    {
     "name": "stdout",
     "output_type": "stream",
     "text": [
      "Waiting for deployment \"movie-default-4903e3c\" rollout to finish: 0 of 1 updated replicas are available...\n",
      "deployment \"movie-default-4903e3c\" successfully rolled out\n"
     ]
    }
   ],
   "source": [
    "!kubectl rollout status deploy/movie-default-4903e3c"
   ]
  },
  {
   "cell_type": "code",
   "execution_count": 17,
   "metadata": {},
   "outputs": [],
   "source": [
    "from seldon_core.seldon_client import SeldonClient\n",
    "import numpy as np\n",
    "sc = SeldonClient(deployment_name=\"movie\",namespace=\"seldon\")"
   ]
  },
  {
   "cell_type": "code",
   "execution_count": 18,
   "metadata": {
    "scrolled": false
   },
   "outputs": [
    {
     "name": "stdout",
     "output_type": "stream",
     "text": [
      "Success:True message:\n",
      "Request:\n",
      "data {\n",
      "  ndarray {\n",
      "    values {\n",
      "      string_value: \"this film has great actors\"\n",
      "    }\n",
      "  }\n",
      "}\n",
      "\n",
      "Response:\n",
      "meta {\n",
      "  puid: \"re1drvdqoppisg1cl42aib3abc\"\n",
      "  requestPath {\n",
      "    key: \"classifier\"\n",
      "    value: \"seldonio/sklearnserver_rest:0.2\"\n",
      "  }\n",
      "}\n",
      "data {\n",
      "  names: \"t:0\"\n",
      "  names: \"t:1\"\n",
      "  ndarray {\n",
      "    values {\n",
      "      list_value {\n",
      "        values {\n",
      "          number_value: 0.21266916924914636\n",
      "        }\n",
      "        values {\n",
      "          number_value: 0.7873308307508536\n",
      "        }\n",
      "      }\n",
      "    }\n",
      "  }\n",
      "}\n",
      "\n"
     ]
    }
   ],
   "source": [
    "data = np.array(['this film has great actors'])\n",
    "r = sc.predict(gateway=\"ambassador\",transport=\"rest\",data=data,payload_type='ndarray')\n",
    "print(r)"
   ]
  },
  {
   "cell_type": "code",
   "execution_count": 19,
   "metadata": {},
   "outputs": [
    {
     "name": "stdout",
     "output_type": "stream",
     "text": [
      "{'names': ['great'], 'precision': 1.0, 'coverage': 0.5007, 'raw': {'feature': [3], 'mean': [1.0], 'precision': [1.0], 'coverage': [0.5007], 'examples': [{'covered': [['this film UNK great UNK'], ['UNK film has great actors'], ['UNK film UNK great actors'], ['this UNK has great UNK'], ['this film UNK great UNK'], ['this UNK has great UNK'], ['UNK UNK UNK great actors'], ['UNK film has great actors'], ['UNK film UNK great UNK'], ['UNK UNK UNK great actors']], 'covered_true': [['UNK film UNK great UNK'], ['UNK UNK has great UNK'], ['UNK UNK UNK great actors'], ['UNK UNK has great UNK'], ['this UNK UNK great UNK'], ['UNK film UNK great actors'], ['this UNK has great UNK'], ['this UNK UNK great UNK'], ['UNK film has great actors'], ['this film UNK great UNK']], 'covered_false': [], 'uncovered_true': [], 'uncovered_false': []}], 'all_precision': 0, 'num_preds': 1000101, 'names': ['great'], 'positions': [14], 'instance': 'this film has great actors', 'prediction': 1}}\n"
     ]
    }
   ],
   "source": [
    "data = np.array(['this film has great actors'])\n",
    "explanation = sc.explain(deployment_name=\"movie\",gateway=\"ambassador\",transport=\"rest\",data=data,payload_type='ndarray')\n",
    "print(explanation)"
   ]
  },
  {
   "cell_type": "code",
   "execution_count": 20,
   "metadata": {},
   "outputs": [
    {
     "name": "stdout",
     "output_type": "stream",
     "text": [
      "seldondeployment.machinelearning.seldon.io \"movie\" deleted\r\n"
     ]
    }
   ],
   "source": [
    "!kubectl delete -f resources/moviesentiment_explainer.yaml"
   ]
  },
  {
   "cell_type": "markdown",
   "metadata": {},
   "source": [
    "## Imagenet Model\n",
    "\n"
   ]
  },
  {
   "cell_type": "code",
   "execution_count": 22,
   "metadata": {
    "scrolled": true
   },
   "outputs": [
    {
     "name": "stdout",
     "output_type": "stream",
     "text": [
      "\u001b[34;01mapiVersion\u001b[39;49;00m: machinelearning.seldon.io/v1alpha2\r\n",
      "\u001b[34;01mkind\u001b[39;49;00m: SeldonDeployment\r\n",
      "\u001b[34;01mmetadata\u001b[39;49;00m:\r\n",
      "  \u001b[34;01mname\u001b[39;49;00m: image\r\n",
      "\u001b[34;01mspec\u001b[39;49;00m:\r\n",
      "  \u001b[34;01mannotations\u001b[39;49;00m:\r\n",
      "    \u001b[34;01mseldon.io/rest-read-timeout\u001b[39;49;00m: \u001b[33m\"\u001b[39;49;00m\u001b[33m10000000\u001b[39;49;00m\u001b[33m\"\u001b[39;49;00m\r\n",
      "    \u001b[34;01mseldon.io/grpc-read-timeout\u001b[39;49;00m: \u001b[33m\"\u001b[39;49;00m\u001b[33m10000000\u001b[39;49;00m\u001b[33m\"\u001b[39;49;00m\r\n",
      "    \u001b[34;01mseldon.io/grpc-max-message-size\u001b[39;49;00m: \u001b[33m\"\u001b[39;49;00m\u001b[33m1000000000\u001b[39;49;00m\u001b[33m\"\u001b[39;49;00m\r\n",
      "    \u001b[34;01mseldon.io/engine-java-opts\u001b[39;49;00m: \u001b[33m\"\u001b[39;49;00m\u001b[33m-Xmx10G\u001b[39;49;00m\u001b[33m\"\u001b[39;49;00m    \r\n",
      "  \u001b[34;01mname\u001b[39;49;00m: image\r\n",
      "  \u001b[34;01mpredictors\u001b[39;49;00m:\r\n",
      "  - \u001b[34;01mcomponentSpecs\u001b[39;49;00m:\r\n",
      "    - \u001b[34;01mspec\u001b[39;49;00m:\r\n",
      "        \u001b[34;01mcontainers\u001b[39;49;00m:\r\n",
      "        - \u001b[34;01mimage\u001b[39;49;00m: docker.io/seldonio/imagenet-transformer:0.1\r\n",
      "          \u001b[34;01mname\u001b[39;49;00m: transformer\r\n",
      "    \u001b[34;01mgraph\u001b[39;49;00m:\r\n",
      "      \u001b[34;01mname\u001b[39;49;00m: transformer\r\n",
      "      \u001b[34;01mtype\u001b[39;49;00m: TRANSFORMER\r\n",
      "      \u001b[34;01mendpoint\u001b[39;49;00m:\r\n",
      "        \u001b[34;01mtype\u001b[39;49;00m: GRPC\r\n",
      "      \u001b[34;01mchildren\u001b[39;49;00m: \r\n",
      "      - \u001b[34;01mimplementation\u001b[39;49;00m: TENSORFLOW_SERVER\r\n",
      "        \u001b[34;01mmodelUri\u001b[39;49;00m: gs://seldon-models/tfserving/imagenet/model\r\n",
      "        \u001b[34;01mname\u001b[39;49;00m: classifier\r\n",
      "        \u001b[34;01mendpoint\u001b[39;49;00m:\r\n",
      "          \u001b[34;01mtype\u001b[39;49;00m: GRPC\r\n",
      "        \u001b[34;01mparameters\u001b[39;49;00m:\r\n",
      "          - \u001b[34;01mname\u001b[39;49;00m: model_name\r\n",
      "            \u001b[34;01mtype\u001b[39;49;00m: STRING\r\n",
      "            \u001b[34;01mvalue\u001b[39;49;00m: classifier\r\n",
      "          - \u001b[34;01mname\u001b[39;49;00m: model_input\r\n",
      "            \u001b[34;01mtype\u001b[39;49;00m: STRING\r\n",
      "            \u001b[34;01mvalue\u001b[39;49;00m: input_image\r\n",
      "          - \u001b[34;01mname\u001b[39;49;00m: model_output\r\n",
      "            \u001b[34;01mtype\u001b[39;49;00m: STRING\r\n",
      "            \u001b[34;01mvalue\u001b[39;49;00m: predictions/Softmax:0\r\n",
      "    \u001b[34;01msvcOrchSpec\u001b[39;49;00m:\r\n",
      "      \u001b[34;01mresources\u001b[39;49;00m:\r\n",
      "        \u001b[34;01mrequests\u001b[39;49;00m:\r\n",
      "          \u001b[34;01mmemory\u001b[39;49;00m: 10Gi\r\n",
      "        \u001b[34;01mlimits\u001b[39;49;00m:\r\n",
      "          \u001b[34;01mmemory\u001b[39;49;00m: 10Gi          \r\n",
      "      \u001b[34;01menv\u001b[39;49;00m:\r\n",
      "      - \u001b[34;01mname\u001b[39;49;00m: SELDON_LOG_LEVEL\r\n",
      "        \u001b[34;01mvalue\u001b[39;49;00m: DEBUG\r\n",
      "    \u001b[34;01mexplainer\u001b[39;49;00m:\r\n",
      "      \u001b[34;01mtype\u001b[39;49;00m: anchor_images\r\n",
      "      \u001b[34;01mmodelUri\u001b[39;49;00m: gs://seldon-models/tfserving/imagenet/explainer\r\n",
      "      \u001b[34;01mconfig\u001b[39;49;00m:\r\n",
      "        \u001b[34;01mbatch_size\u001b[39;49;00m: \u001b[33m\"\u001b[39;49;00m\u001b[33m100\u001b[39;49;00m\u001b[33m\"\u001b[39;49;00m\r\n",
      "    \u001b[34;01mname\u001b[39;49;00m: default\r\n",
      "    \u001b[34;01mreplicas\u001b[39;49;00m: 1\r\n"
     ]
    }
   ],
   "source": [
    "!pygmentize resources/imagenet_explainer_grpc.yaml"
   ]
  },
  {
   "cell_type": "code",
   "execution_count": 11,
   "metadata": {},
   "outputs": [
    {
     "name": "stdout",
     "output_type": "stream",
     "text": [
      "seldondeployment.machinelearning.seldon.io/image created\r\n"
     ]
    }
   ],
   "source": [
    "!kubectl apply -f resources/imagenet_explainer_grpc.yaml"
   ]
  },
  {
   "cell_type": "code",
   "execution_count": 12,
   "metadata": {},
   "outputs": [
    {
     "name": "stdout",
     "output_type": "stream",
     "text": [
      "Waiting for deployment \"image-default-5d14729\" rollout to finish: 0 of 1 updated replicas are available...\n",
      "deployment \"image-default-5d14729\" successfully rolled out\n"
     ]
    }
   ],
   "source": [
    "!kubectl rollout status deploy/image-default-5d14729"
   ]
  },
  {
   "cell_type": "code",
   "execution_count": 13,
   "metadata": {},
   "outputs": [
    {
     "name": "stderr",
     "output_type": "stream",
     "text": [
      "/home/clive/anaconda3/envs/seldon-core/lib/python3.6/site-packages/tensorflow/python/framework/dtypes.py:526: FutureWarning: Passing (type, 1) or '1type' as a synonym of type is deprecated; in a future version of numpy, it will be understood as (type, (1,)) / '(1,)type'.\n",
      "  _np_qint8 = np.dtype([(\"qint8\", np.int8, 1)])\n",
      "/home/clive/anaconda3/envs/seldon-core/lib/python3.6/site-packages/tensorflow/python/framework/dtypes.py:527: FutureWarning: Passing (type, 1) or '1type' as a synonym of type is deprecated; in a future version of numpy, it will be understood as (type, (1,)) / '(1,)type'.\n",
      "  _np_quint8 = np.dtype([(\"quint8\", np.uint8, 1)])\n",
      "/home/clive/anaconda3/envs/seldon-core/lib/python3.6/site-packages/tensorflow/python/framework/dtypes.py:528: FutureWarning: Passing (type, 1) or '1type' as a synonym of type is deprecated; in a future version of numpy, it will be understood as (type, (1,)) / '(1,)type'.\n",
      "  _np_qint16 = np.dtype([(\"qint16\", np.int16, 1)])\n",
      "/home/clive/anaconda3/envs/seldon-core/lib/python3.6/site-packages/tensorflow/python/framework/dtypes.py:529: FutureWarning: Passing (type, 1) or '1type' as a synonym of type is deprecated; in a future version of numpy, it will be understood as (type, (1,)) / '(1,)type'.\n",
      "  _np_quint16 = np.dtype([(\"quint16\", np.uint16, 1)])\n",
      "/home/clive/anaconda3/envs/seldon-core/lib/python3.6/site-packages/tensorflow/python/framework/dtypes.py:530: FutureWarning: Passing (type, 1) or '1type' as a synonym of type is deprecated; in a future version of numpy, it will be understood as (type, (1,)) / '(1,)type'.\n",
      "  _np_qint32 = np.dtype([(\"qint32\", np.int32, 1)])\n",
      "/home/clive/anaconda3/envs/seldon-core/lib/python3.6/site-packages/tensorflow/python/framework/dtypes.py:535: FutureWarning: Passing (type, 1) or '1type' as a synonym of type is deprecated; in a future version of numpy, it will be understood as (type, (1,)) / '(1,)type'.\n",
      "  np_resource = np.dtype([(\"resource\", np.ubyte, 1)])\n"
     ]
    }
   ],
   "source": [
    "from PIL import Image\n",
    "import matplotlib\n",
    "%matplotlib inline\n",
    "import matplotlib.pyplot as plt\n",
    "from tensorflow.keras.applications.inception_v3 import InceptionV3, decode_predictions\n",
    "import alibi\n",
    "from alibi.datasets import fetch_imagenet\n",
    "import numpy as np\n",
    "\n",
    "def get_image_data():\n",
    "    data = []\n",
    "    image_shape = (299, 299, 3)\n",
    "    target_size = image_shape[:2]\n",
    "    image = Image.open(\"cat-raw.jpg\").convert('RGB')\n",
    "    image = np.expand_dims(image.resize(target_size), axis=0)\n",
    "    data.append(image)\n",
    "    data = np.concatenate(data, axis=0)\n",
    "    return data\n",
    "\n",
    "data = get_image_data()"
   ]
  },
  {
   "cell_type": "code",
   "execution_count": 14,
   "metadata": {},
   "outputs": [],
   "source": [
    "from seldon_core.seldon_client import SeldonClient\n",
    "import numpy as np\n",
    "sc = SeldonClient(deployment_name=\"image\",namespace=\"seldon\",grpc_max_send_message_length= 27 * 1024 * 1024,grpc_max_receive_message_length= 27 * 1024 * 1024)"
   ]
  },
  {
   "cell_type": "code",
   "execution_count": 15,
   "metadata": {
    "scrolled": false
   },
   "outputs": [
    {
     "data": {
      "text/plain": [
       "<matplotlib.image.AxesImage at 0x7f761186f0f0>"
      ]
     },
     "execution_count": 15,
     "metadata": {},
     "output_type": "execute_result"
    },
    {
     "data": {
      "image/png": "[encoded data removed]",
      "text/plain": [
       "<Figure size 432x288 with 1 Axes>"
      ]
     },
     "metadata": {
      "needs_background": "light"
     },
     "output_type": "display_data"
    }
   ],
   "source": [
    "import tensorflow as tf\n",
    "data = get_image_data()\n",
    "req = data[0:1]\n",
    "r = sc.predict(gateway=\"ambassador\",transport=\"grpc\",data=req,payload_type='tftensor')\n",
    "preds = tf.make_ndarray(r.response.data.tftensor)\n",
    "\n",
    "label = decode_predictions(preds, top=1)\n",
    "plt.title(label[0])\n",
    "plt.imshow(data[0])"
   ]
  },
  {
   "cell_type": "code",
   "execution_count": 16,
   "metadata": {},
   "outputs": [
    {
     "data": {
      "image/png": "[encoded data removed]",
      "text/plain": [
       "<Figure size 432x288 with 2 Axes>"
      ]
     },
     "metadata": {
      "needs_background": "light"
     },
     "output_type": "display_data"
    }
   ],
   "source": [
    "req = np.expand_dims(data[0], axis=0)\n",
    "explanation = sc.explain(deployment_name=\"image\",gateway=\"ambassador\",transport=\"rest\",data=req)\n",
    "exp_arr = np.array(explanation['anchor'])\n",
    "\n",
    "f, axarr = plt.subplots(1, 2)\n",
    "axarr[0].imshow(data[0])\n",
    "axarr[1].imshow(explanation['anchor'])\n",
    "plt.show()\n"
   ]
  },
  {
   "cell_type": "code",
   "execution_count": 18,
   "metadata": {},
   "outputs": [
    {
     "name": "stdout",
     "output_type": "stream",
     "text": [
      "seldondeployment.machinelearning.seldon.io \"image\" deleted\r\n"
     ]
    }
   ],
   "source": [
    "!kubectl delete -f resources/imagenet_explainer_grpc.yaml"
   ]
  },
  {
   "cell_type": "code",
   "execution_count": 21,
   "metadata": {},
   "outputs": [],
   "source": [
    "import json\n",
    "with open('cat.json') as json_file:\n",
    "    j = json.load(json_file)"
   ]
  },
  {
   "cell_type": "code",
   "execution_count": null,
   "metadata": {},
   "outputs": [],
   "source": [
    "r = sc.predict(gateway=\"ambassador\",transport=\"grpc\",data=req,payload_type='tftensor')\n",
    "preds = tf.make_ndarray(r.response.data.tftensor)\n",
    "\n",
    "label = decode_predictions(preds, top=1)\n",
    "plt.title(label[0])\n"
   ]
  }
 ],
 "metadata": {
  "anaconda-cloud": {},
  "kernelspec": {
   "display_name": "Python 3",
   "language": "python",
   "name": "python3"
  },
  "language_info": {
   "codemirror_mode": {
    "name": "ipython",
    "version": 3
   },
   "file_extension": ".py",
   "mimetype": "text/x-python",
   "name": "python",
   "nbconvert_exporter": "python",
   "pygments_lexer": "ipython3",
   "version": "3.6.8"
  },
  "varInspector": {
   "cols": {
    "lenName": 16,
    "lenType": 16,
    "lenVar": 40
   },
   "kernels_config": {
    "python": {
     "delete_cmd_postfix": "",
     "delete_cmd_prefix": "del ",
     "library": "var_list.py",
     "varRefreshCmd": "print(var_dic_list())"
    },
    "r": {
     "delete_cmd_postfix": ") ",
     "delete_cmd_prefix": "rm(",
     "library": "var_list.r",
     "varRefreshCmd": "cat(var_dic_list()) "
    }
   },
   "types_to_exclude": [
    "module",
    "function",
    "builtin_function_or_method",
    "instance",
    "_Feature"
   ],
   "window_display": false
  }
 },
 "nbformat": 4,
 "nbformat_minor": 1
}
